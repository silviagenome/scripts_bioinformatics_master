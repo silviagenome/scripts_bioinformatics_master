{
 "cells": [
  {
   "cell_type": "code",
   "execution_count": 2,
   "id": "63f98752-89d1-4a19-8c3c-743787c8e889",
   "metadata": {},
   "outputs": [],
   "source": [
    "cadena1 = \"AACCAACCACCGTCCACCT\"\n",
    "cadena2 = \"GAGTACCGTCCT\"\n",
    "subcadena_tam = 5"
   ]
  },
  {
   "cell_type": "code",
   "execution_count": 3,
   "id": "68581dfb-2a72-4473-ad5c-f271ea6b70ab",
   "metadata": {},
   "outputs": [],
   "source": [
    "def buscando_cadenas(cadena_1, cadena_2, tamanio):\n",
    "    index = 0 #aquí he puesto un index para usarlo para que saque un mensaje en caso de que no encuentre ninguna subcadena\n",
    "    #se va a recorrer cada caracter de la cadena 1 y por cada uno se va a ver si coincide con cada uno de la cadena 2\n",
    "    for m in range(len(cadena_1)-tamanio): #pongo ese rango para que no se salga de la cadena y me de resultados erróneos\n",
    "        for n in range(len(cadena_2)-tamanio): #aquí otra vez lo mismo\n",
    "            if cadena_1[m:m+tamanio] == cadena_2[n:n+tamanio]: #si alguno de los caracteres coincide se va a ver que coincidan también los siguientes según el tamaño de la cadena deseada\n",
    "                index = 1 #por cada vez que se encuentre el index será 1\n",
    "                return cadena_2[n:n+tamanio]\n",
    "    if index==0: #si el index es 0, será porque nunca ha superado el if de arriba, por lo que no se ha encontrado ninguna subcadena y se imprime el mensaje\n",
    "        return \"No se ha encontrado ninguna subcadena de este tamaño\""
   ]
  },
  {
   "cell_type": "code",
   "execution_count": 8,
   "id": "96671087-98a0-4b65-863e-b40e4b21aee9",
   "metadata": {},
   "outputs": [
    {
     "data": {
      "text/plain": [
       "'ACCGT'"
      ]
     },
     "execution_count": 8,
     "metadata": {},
     "output_type": "execute_result"
    }
   ],
   "source": [
    "buscando_cadenas(cadena1, cadena2, subcadena_tam)"
   ]
  },
  {
   "cell_type": "code",
   "execution_count": 17,
   "id": "fd258294-4052-41a6-b37a-2d8b573b3101",
   "metadata": {},
   "outputs": [
    {
     "data": {
      "text/plain": [
       "'No se ha encontrado ninguna subcadena de este tamaño'"
      ]
     },
     "execution_count": 17,
     "metadata": {},
     "output_type": "execute_result"
    }
   ],
   "source": [
    "buscando_cadenas(cadena1, cadena2, 8)"
   ]
  },
  {
   "cell_type": "code",
   "execution_count": 18,
   "id": "48a1569a-3000-43c1-ba06-67b98426f6fa",
   "metadata": {},
   "outputs": [],
   "source": [
    "def buscando_cadena_mas_larga(cadena_1, cadena_2):\n",
    "    subcadena_mas_larga = \"\" #creamos un string vacío con la que será la subcadena más larga\n",
    "    for m in range(len(cadena_1)): #recorremos la primera cadena en su extensión\n",
    "        subcadena = \"\" #creamos un string vacio que se irá cambiando por cada subcadena\n",
    "        for n in range(len(cadena_2)): #recorremos la segunda cadena en su extensión\n",
    "            if (m+n < len(cadena_1) and cadena_1[m+n] == cadena_2[n]): #si la suma de las posiciones entre la primera y la segunda cadena es menor que la longitud de la cadena1\n",
    "                #y si este caracter es igual que el caracter de la cadena2,\n",
    "                subcadena += cadena_2[n] #a la subcadena se le añadirá está letra\n",
    "            else: #en cuanto deje de ser igual es que se ha acabado la subcadena\n",
    "                if (len(subcadena) > len(subcadena_mas_larga)): #si subcadena es más larga que la más larga, se cambia por ella\n",
    "                    subcadena_mas_larga = subcadena #la primera vez se va a cambiar sí o sí porque la más larga estará vacía\n",
    "                subcadena = \"\" #al acabarse la subcadena vamos a volver a hacerla vacía para que se escriba la próxima subcadena\n",
    "    return subcadena_mas_larga #al final devolvemos la que se haya quedado como la más larga"
   ]
  },
  {
   "cell_type": "code",
   "execution_count": 19,
   "id": "15f734b4-c463-4651-858f-c5c0433e549b",
   "metadata": {},
   "outputs": [
    {
     "data": {
      "text/plain": [
       "'ACCGTCC'"
      ]
     },
     "execution_count": 19,
     "metadata": {},
     "output_type": "execute_result"
    }
   ],
   "source": [
    "buscando_cadena_mas_larga(cadena1, cadena2)"
   ]
  }
 ],
 "metadata": {
  "kernelspec": {
   "display_name": "Python3.8",
   "language": "python",
   "name": "python3.8"
  },
  "language_info": {
   "codemirror_mode": {
    "name": "ipython",
    "version": 3
   },
   "file_extension": ".py",
   "mimetype": "text/x-python",
   "name": "python",
   "nbconvert_exporter": "python",
   "pygments_lexer": "ipython3",
   "version": "3.8.5"
  }
 },
 "nbformat": 4,
 "nbformat_minor": 5
}
