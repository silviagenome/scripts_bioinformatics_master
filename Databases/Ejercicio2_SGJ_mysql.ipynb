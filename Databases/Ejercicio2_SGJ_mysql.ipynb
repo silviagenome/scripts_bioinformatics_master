{
 "cells": [
  {
   "cell_type": "code",
   "execution_count": 21,
   "id": "b1950242-080e-426e-b650-8f1baa0bb859",
   "metadata": {},
   "outputs": [
    {
     "name": "stdout",
     "output_type": "stream",
     "text": [
      "64 filas insertadas\n"
     ]
    }
   ],
   "source": [
    "##VERSIÓN 1##\n",
    "#En está versión voy a crear una única tabla a partir del csv\n",
    "\n",
    "import csv\n",
    "import mysql.connector\n",
    "\n",
    "#he definido una función para conectarme al servidor y llamarlo desde el main\n",
    "def connect_to_server():\n",
    "    global mydb #he hecho esto global para que no se corté la conexión a lo largo del programa\n",
    "    global mycursor\n",
    "    mydb = mysql.connector.connect(\n",
    "      host=\"dayhoff.inf.um.es\",\n",
    "      user=\"alubio07\",\n",
    "      password=\"alubio07PW-\",\n",
    "      database=\"alubio07\"\n",
    "    )\n",
    "    mycursor = mydb.cursor()\n",
    "    return mycursor\n",
    "\n",
    "#he hecho está función para coger los headers del csv porque lo uso varias veces\n",
    "def get_headers():\n",
    "    with open(\"cod_amino.csv\", mode='r') as csv_file:\n",
    "        csv_reader = csv.reader(csv_file, delimiter=\",\", )\n",
    "        csv_headers = csv.DictReader(csv_file, delimiter=\",\", )\n",
    "        fieldnames = csv_headers.fieldnames\n",
    "        return fieldnames\n",
    "\n",
    "def create_table():\n",
    "    fieldnames = get_headers()\n",
    "    mycursor.execute(\"CREATE TABLE cod_amino (\\\n",
    "      \"+fieldnames[0]+\" varchar(255) NOT NULL,\\\n",
    "      \"+fieldnames[1]+\" varchar(255) NOT NULL,\\\n",
    "      \"+fieldnames[2]+\" varchar(255) NOT NULL, \\\n",
    "      \"+fieldnames[3]+\" varchar(255) NOT NULL,\\\n",
    "      PRIMARY KEY (\"+fieldnames[0]+\")\\\n",
    "    )\")\n",
    "    \n",
    "def charge_csv():\n",
    "    with open(\"cod_amino.csv\", mode='r') as csv_file:\n",
    "        csv_reader = csv.reader(csv_file, delimiter=\",\", )\n",
    "        next(csv_reader)\n",
    "        line_count = 0\n",
    "        values = []\n",
    "        for row in csv_reader:\n",
    "            fila = (row[0], row[1], row[2], row[3])\n",
    "            values.append(fila)\n",
    "    #Creamos la plantilla de inserción\n",
    "    fieldnames = get_headers()\n",
    "    sql_insert = \"INSERT INTO cod_amino (\"+fieldnames[0]+\", \"+fieldnames[1]+\", \"+fieldnames[2]+\", \"+fieldnames[3]+\") VALUES (%s, %s, %s, %s)\"\n",
    "    mycursor.executemany(sql_insert, values)\n",
    "    mydb.commit()\n",
    "    return mycursor.rowcount\n",
    "\n",
    "def main():\n",
    "    mycursor = connect_to_server()\n",
    "    create_table()\n",
    "    filas_insertadas = charge_csv()\n",
    "    print(filas_insertadas, \"filas insertadas\")\n",
    "\n",
    "if __name__ == \"__main__\":\n",
    "    main()"
   ]
  },
  {
   "cell_type": "code",
   "execution_count": 22,
   "id": "f396c094-fb66-47c8-81f4-47289a213080",
   "metadata": {},
   "outputs": [
    {
     "name": "stdout",
     "output_type": "stream",
     "text": [
      "('cod_amino',)\n",
      "('departamento',)\n",
      "('departamento_empleado',)\n",
      "('empleado',)\n",
      "('gasto',)\n",
      "('genep2',)\n",
      "('manager',)\n",
      "('presupuesto',)\n",
      "('proteinp2',)\n",
      "('salario',)\n",
      "('sequenceb3',)\n",
      "('variantb3',)\n"
     ]
    }
   ],
   "source": [
    "#con esto comprobamos que aparece la tabla que acabamos de crear en nuestra base de datos\n",
    "mycursor.execute(\"SHOW TABLES\")\n",
    "for x in mycursor:\n",
    "  print(x)"
   ]
  },
  {
   "cell_type": "code",
   "execution_count": 20,
   "id": "597f0bd1-a4dc-4e7f-8cc5-58e78b05fe78",
   "metadata": {},
   "outputs": [],
   "source": [
    "#ejecutar esto para borrar la tabla en el caso de que se quiera comprobar que funciona el código de\n",
    "#arriba, ya que si no saldrá un error de que ya existe la tabla\n",
    "mycursor.execute(\"DROP TABLE cod_amino;\")"
   ]
  },
  {
   "cell_type": "code",
   "execution_count": 23,
   "id": "cc42ab81-f031-4600-af89-82c26e77bdf3",
   "metadata": {},
   "outputs": [
    {
     "name": "stdout",
     "output_type": "stream",
     "text": [
      "21 filas insertadas en la primera tabla y 64 filas insertadas en la segunda tabla.\n"
     ]
    }
   ],
   "source": [
    "##VERSIÓN 2##\n",
    "#En esta versión voy a crear dos tablas que se relacionen entre sí a partir del csv\n",
    "\n",
    "import csv\n",
    "import mysql.connector\n",
    "\n",
    "#he definido una función para conectarme al servidor y llamarlo desde el main\n",
    "def connect_to_server():\n",
    "    global mydb #he hecho esto global para que no se corté la conexión a lo largo del programa\n",
    "    global mycursor\n",
    "    mydb = mysql.connector.connect(\n",
    "      host=\"dayhoff.inf.um.es\",\n",
    "      user=\"alubio07\",\n",
    "      password=\"alubio07PW-\",\n",
    "      database=\"alubio07\"\n",
    "    )\n",
    "    mycursor = mydb.cursor()\n",
    "    return mycursor\n",
    "\n",
    "def get_headers():\n",
    "    with open(\"cod_amino.csv\", mode='r') as csv_file:\n",
    "        csv_reader = csv.reader(csv_file, delimiter=\",\", )\n",
    "        csv_headers = csv.DictReader(csv_file, delimiter=\",\", )\n",
    "        fieldnames = csv_headers.fieldnames\n",
    "        return fieldnames\n",
    "\n",
    "def create_table1():\n",
    "    fieldnames = get_headers()\n",
    "    mycursor.execute(\"CREATE TABLE cod_amino1 (\\\n",
    "      \"+fieldnames[1]+\" varchar(255) NOT NULL,\\\n",
    "      \"+fieldnames[2]+\" varchar(255) NOT NULL,\\\n",
    "      \"+fieldnames[3]+\" varchar(255) NOT NULL,\\\n",
    "      PRIMARY KEY (\"+fieldnames[1]+\")\\\n",
    "    )\")\n",
    "\n",
    "def create_table2():\n",
    "    fieldnames = get_headers()\n",
    "    mycursor.execute(\"CREATE TABLE cod_amino2 (\\\n",
    "      \"+fieldnames[0]+\" varchar(255) NOT NULL,\\\n",
    "      \"+fieldnames[1]+\" varchar(255) NOT NULL,\\\n",
    "      PRIMARY KEY (\"+fieldnames[0]+\"),\\\n",
    "      FOREIGN KEY (\"+fieldnames[1]+\") REFERENCES cod_amino1 (\"+fieldnames[1]+\")\\\n",
    "    )\")\n",
    "    \n",
    "def charge_csv():\n",
    "    with open(\"cod_amino.csv\", mode='r') as csv_file:\n",
    "        csv_reader = csv.reader(csv_file, delimiter=\",\", )\n",
    "        next(csv_reader)\n",
    "        line_count = 0\n",
    "        values1 = []\n",
    "        values2 = []\n",
    "        for row in csv_reader:\n",
    "            fila1 = (row[1], row[2], row[3])\n",
    "            fila2 = (row[0], row[1])\n",
    "            values2.append(fila2)\n",
    "            if fila1 not in values1: #en esta tabla saldrían duplicados así que los evito aquí\n",
    "                values1.append(fila1) #Imprimimos la columna símbolo\n",
    "    #Creamos la plantilla de inserción\n",
    "    fieldnames = get_headers()\n",
    "    sql_insert1 = \"INSERT INTO cod_amino1 (\"+fieldnames[1]+\", \"+fieldnames[2]+\", \"+fieldnames[3]+\") VALUES (%s, %s, %s)\"\n",
    "    sql_insert2 = \"INSERT INTO cod_amino2 (\"+fieldnames[0]+\", \"+fieldnames[1]+\") VALUES (%s, %s)\"\n",
    "    mycursor.executemany(sql_insert1, values1)\n",
    "    mydb.commit()\n",
    "    filas_insertadas1 = mycursor.rowcount\n",
    "    mycursor.executemany(sql_insert2, values2)\n",
    "    mydb.commit()\n",
    "    filas_insertadas2 = mycursor.rowcount\n",
    "    return filas_insertadas1, filas_insertadas2\n",
    "\n",
    "def main():\n",
    "    mycursor = connect_to_server()\n",
    "    create_table1()\n",
    "    create_table2()\n",
    "    filas_insertadas = charge_csv()\n",
    "    print(filas_insertadas[0], \"filas insertadas en la primera tabla y\", filas_insertadas[1], \"filas insertadas en la segunda tabla.\")\n",
    "\n",
    "if __name__ == \"__main__\":\n",
    "    main()"
   ]
  },
  {
   "cell_type": "code",
   "execution_count": 24,
   "id": "9fe20823-26e5-4d8c-a976-3a4563392140",
   "metadata": {},
   "outputs": [
    {
     "name": "stdout",
     "output_type": "stream",
     "text": [
      "('cod_amino',)\n",
      "('cod_amino1',)\n",
      "('cod_amino2',)\n",
      "('departamento',)\n",
      "('departamento_empleado',)\n",
      "('empleado',)\n",
      "('gasto',)\n",
      "('genep2',)\n",
      "('manager',)\n",
      "('presupuesto',)\n",
      "('proteinp2',)\n",
      "('salario',)\n",
      "('sequenceb3',)\n",
      "('variantb3',)\n"
     ]
    }
   ],
   "source": [
    "#con esto comprobamos que aparece la tabla que acabamos de crear en nuestra base de datos\n",
    "mycursor.execute(\"SHOW TABLES\")\n",
    "for x in mycursor:\n",
    "  print(x)"
   ]
  },
  {
   "cell_type": "code",
   "execution_count": 19,
   "id": "1ce623fe-2a7d-44a2-babe-300904a0df45",
   "metadata": {},
   "outputs": [],
   "source": [
    "#ejecutar esto para borrar las tablas en el caso de que se quiera comprobar que funciona el código de\n",
    "#arriba, ya que si no saldrá un error de que ya existe la tabla\n",
    "mycursor.execute(\"DROP TABLE cod_amino2;\")\n",
    "mycursor.execute(\"DROP TABLE cod_amino1;\")"
   ]
  }
 ],
 "metadata": {
  "kernelspec": {
   "display_name": "Python3.8",
   "language": "python",
   "name": "python3.8"
  },
  "language_info": {
   "codemirror_mode": {
    "name": "ipython",
    "version": 3
   },
   "file_extension": ".py",
   "mimetype": "text/x-python",
   "name": "python",
   "nbconvert_exporter": "python",
   "pygments_lexer": "ipython3",
   "version": "3.8.5"
  }
 },
 "nbformat": 4,
 "nbformat_minor": 5
}
