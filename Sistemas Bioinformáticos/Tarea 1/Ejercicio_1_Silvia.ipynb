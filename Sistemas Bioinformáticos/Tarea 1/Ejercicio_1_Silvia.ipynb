{
 "cells": [
  {
   "cell_type": "code",
   "execution_count": 26,
   "id": "30695fdc-3331-43b0-9bd8-95190eeabc50",
   "metadata": {},
   "outputs": [
    {
     "name": "stdout",
     "output_type": "stream",
     "text": [
      "{'angel': 40, 'maria': 39, 'fernando': 50, 'alejandro': 24, 'rocio': 32, 'domingo': 52, 'juan': 63, 'josefa': 97, 'joaquin': 57, 'luisa': 66, 'paula': 7}\n"
     ]
    }
   ],
   "source": [
    "#ejercicio 1, calculando la edad de una colección de elementos\n",
    "#partimos de esta estructura de datos\n",
    "diccionario = {\"angel\":1982, \"maria\":1983, \"fernando\":1972, \"alejandro\":1998, \"rocio\":1990,\n",
    "              \"domingo\":1970, \"juan\":1959, \"josefa\":1925, \"joaquin\":1965, \"luisa\":1956, \"paula\":2015}\n",
    "#hay que generar un diccionario con la edad aproximada, o sea, los años que cumplen durante este año\n",
    "\n",
    "#primero vamos a crear el diccionario resultado, que tiene que tener como claves los nombres y como valores las edades\n",
    "diccionario_resultado={}\n",
    "#vamos a definir este año para poder restarle el de nacimiento de cada persona\n",
    "import datetime\n",
    "este = datetime.date.today().year\n",
    "#hacemos un bucle que vaya recorriendo cada clave del diccionario y asignaremos al nuevo diccionario la misma clave\n",
    "#y como valor el año actual menos el valor de cada clave del diccionario original\n",
    "for elemento in diccionario:\n",
    "    diccionario_resultado[elemento]= este - diccionario[elemento]\n",
    "\n",
    "print(diccionario_resultado)"
   ]
  },
  {
   "cell_type": "code",
   "execution_count": 27,
   "id": "6e3ffcd2-586a-405e-8e99-53c3ae5ab3a0",
   "metadata": {},
   "outputs": [
    {
     "name": "stdout",
     "output_type": "stream",
     "text": [
      "['fernando', 'domingo', 'juan', 'josefa', 'joaquin', 'luisa']\n",
      "['angel', 'maria', 'alejandro', 'rocio', 'paula']\n"
     ]
    }
   ],
   "source": [
    "#sobre el diccionario hay que crear dos listas que guarden los mayores de 50 por un lado, y los menores de 50 por otro\n",
    "#primero vamos a crear dos listas fuera del bucle (para que no se sobreescriban)\n",
    "mayores_50 = []\n",
    "menores_50 = []\n",
    "#vamos a crear un bucle que recorra cada elemento del diccionario, y dentro un if else\n",
    "#if >= 50 los añadimos a una lista y else >50 ( o sea los <50) en la otra lista\n",
    "for persona in diccionario_resultado:\n",
    "    if diccionario_resultado[persona] >= 50:\n",
    "        mayores_50.append(persona)\n",
    "    else:\n",
    "        menores_50.append(persona)\n",
    "\n",
    "print(mayores_50)\n",
    "print(menores_50)"
   ]
  }
 ],
 "metadata": {
  "kernelspec": {
   "display_name": "Python3.8",
   "language": "python",
   "name": "python3.8"
  },
  "language_info": {
   "codemirror_mode": {
    "name": "ipython",
    "version": 3
   },
   "file_extension": ".py",
   "mimetype": "text/x-python",
   "name": "python",
   "nbconvert_exporter": "python",
   "pygments_lexer": "ipython3",
   "version": "3.8.5"
  }
 },
 "nbformat": 4,
 "nbformat_minor": 5
}
