{
 "cells": [
  {
   "cell_type": "code",
   "execution_count": 28,
   "id": "5d872efd-54d3-44e4-a825-3038a72c4ce5",
   "metadata": {},
   "outputs": [],
   "source": [
    "#ejercicio 2, calculando la media de expresión por tipo de muestra\n",
    "#partimos de esta estructura de datos\n",
    "sample1 = {\"name\": \"WT1\",\n",
    "          \"genes\":{\n",
    "              \"KRAS\": 200,\n",
    "              \"BRAF\": 210,\n",
    "              \"TP53\": 85,\n",
    "              \"PIK3CA\": 356\n",
    "          }}\n",
    "sample2 = {\"name\": \"WT2\",\n",
    "          \"genes\":{\n",
    "              \"KRAS\": 256,\n",
    "              \"BRAF\": 198,\n",
    "              \"TP53\": 110,\n",
    "              \"PIK3CA\": 263\n",
    "          }}\n",
    "sample3 = {\"name\": \"WT3\",\n",
    "          \"genes\":{\n",
    "              \"KRAS\": 145,\n",
    "              \"BRAF\": 320,\n",
    "              \"TP53\": 225,\n",
    "              \"PIK3CA\": 89\n",
    "          }}\n",
    "sample4 = {\"name\": \"DS1\",\n",
    "          \"genes\":{\n",
    "              \"KRAS\": 40,\n",
    "              \"BRAF\": 86,\n",
    "              \"TP53\": 211,\n",
    "              \"PIK3CA\": 314\n",
    "          }}\n",
    "sample5 = {\"name\": \"DS2\",\n",
    "          \"genes\":{\n",
    "              \"KRAS\": 526,\n",
    "              \"BRAF\": 502,\n",
    "              \"TP53\": 402,\n",
    "              \"PIK3CA\": 387\n",
    "          }}\n",
    "sample6 = {\"name\": \"DS3\",\n",
    "          \"genes\": {\n",
    "              \"KRAS\": 85,\n",
    "              \"BRAF\": 465,\n",
    "              \"TP53\": 26,\n",
    "              \"PIK3CA\": 116\n",
    "          }}\n",
    "\n",
    "lista_muestras = [sample1, sample2, sample3, sample4, sample5, sample6]"
   ]
  },
  {
   "cell_type": "code",
   "execution_count": 29,
   "id": "953d944e-295c-4249-996b-72bfbd8a4954",
   "metadata": {},
   "outputs": [
    {
     "name": "stdout",
     "output_type": "stream",
     "text": [
      "{'WT1': 212.75, 'WT2': 206.75, 'WT3': 194.75, 'DS1': 162.75, 'DS2': 454.25, 'DS3': 173.0}\n"
     ]
    }
   ],
   "source": [
    "#crearemos un diccionario que nos indique las medias de expresión de las muestras\n",
    "#primero vamos a crear el diccionario resultado fuera del bucle\n",
    "diccionario_media = {}\n",
    "#ahora vamos a crear un bucle, e iremos añadieno al diccionario como clave el valor de name y como valor la media de cada gen\n",
    "#para la media hay que hacer un bucle anidado que meta en una lista todo los valores del diccionario \"genes\"\n",
    "for muestra in lista_muestras:\n",
    "    expresion = []\n",
    "    for gen in muestra[\"genes\"]:\n",
    "        expresion.append(muestra[\"genes\"][gen])\n",
    "    media = sum(expresion)/len(expresion)\n",
    "    diccionario_media[muestra[\"name\"]] = media\n",
    "print(diccionario_media)"
   ]
  },
  {
   "cell_type": "code",
   "execution_count": 30,
   "id": "8574a115-fb61-4df2-a3d3-c3eb12f966d7",
   "metadata": {},
   "outputs": [
    {
     "name": "stdout",
     "output_type": "stream",
     "text": [
      "{'WT': 204.75, 'DS': 263.3333333333333}\n"
     ]
    }
   ],
   "source": [
    "#Basándonos en el diccionario anterior, ahora calcularemos la media global por tipo de muestra\n",
    "#aquí vamos a hacer un if else, si empieza con WT, meteremos su valor en una lista, si empieza con DS en otra\n",
    "#también vamos a crear dos listas con los valores para sacar la media\n",
    "diccionario_global = {}\n",
    "WT_valores = []\n",
    "DS_valores = []\n",
    "for elemento in diccionario_media:\n",
    "    if elemento.startswith(\"WT\"):\n",
    "        WT_valores.append(diccionario_media[elemento])\n",
    "    elif elemento.startswith(\"DS\"):\n",
    "        DS_valores.append(diccionario_media[elemento])\n",
    "\n",
    "media_WT = sum(WT_valores)/len(WT_valores)\n",
    "media_DS = sum(DS_valores)/len(DS_valores)\n",
    "diccionario_global[\"WT\"] = media_WT\n",
    "diccionario_global[\"DS\"] = media_DS\n",
    "print(diccionario_global)"
   ]
  }
 ],
 "metadata": {
  "kernelspec": {
   "display_name": "Python3.8",
   "language": "python",
   "name": "python3.8"
  },
  "language_info": {
   "codemirror_mode": {
    "name": "ipython",
    "version": 3
   },
   "file_extension": ".py",
   "mimetype": "text/x-python",
   "name": "python",
   "nbconvert_exporter": "python",
   "pygments_lexer": "ipython3",
   "version": "3.8.5"
  }
 },
 "nbformat": 4,
 "nbformat_minor": 5
}
