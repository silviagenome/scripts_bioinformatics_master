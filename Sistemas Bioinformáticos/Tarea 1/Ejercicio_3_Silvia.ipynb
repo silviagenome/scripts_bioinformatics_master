{
 "cells": [
  {
   "cell_type": "code",
   "execution_count": 10,
   "id": "91085bf9-edcb-4653-98fb-76e0179f7239",
   "metadata": {},
   "outputs": [],
   "source": [
    "#ejercicio 3, recorriendo listas complejas\n",
    "#partimos de la siguiente estructura de datos\n",
    "lista_muestras = [[\"WT1\", [25,46,13]], [\"WT2\", [81,12,17]], [\"KO1\", [39,27,8]], [\"KO2\", [44,31,56]]]"
   ]
  },
  {
   "cell_type": "code",
   "execution_count": 12,
   "id": "4b26a6af-cf13-410e-aa76-bbdb844b48c8",
   "metadata": {},
   "outputs": [
    {
     "name": "stdout",
     "output_type": "stream",
     "text": [
      "{'WT1': 28.0, 'WT2': 14.5, 'KO1': 24.666666666666668, 'KO2': 37.5}\n",
      "[['WT1', [25, 46, 13]], ['WT2', [12, 17]], ['KO1', [39, 27, 8]], ['KO2', [44, 31]]]\n"
     ]
    }
   ],
   "source": [
    "#hay que convertir esa lista en un diccionario que tenga como clave el nombre de la muestra (posicion 0 de la sublista)\n",
    "#como valor tienen que tener la media de la lista que tiene en la posicion uno\n",
    "#a la hora de calcular la media deberán excluirse los valores mayores de 50\n",
    "#lo primero que hacemos es crear el diccionario\n",
    "diccionario_muestras = {}\n",
    "#ahora vamos a hacer un bucle para pasar por cada una de las sublistas\n",
    "#va a ser un bucle anidado para con un if para que quite los valores superiores a 50 de cada sublista dentro de la sublista\n",
    "for sublista in lista_muestras:\n",
    "    for i in range(0, (len(sublista[1]))):\n",
    "        if sublista[1][i] > 50:\n",
    "            sublista[1].pop(i)\n",
    "        diccionario_muestras[sublista[0]] = sum(sublista[1])/len(sublista[1])\n",
    "    \n",
    "print(diccionario_muestras)\n",
    "print(lista_muestras)"
   ]
  }
 ],
 "metadata": {
  "kernelspec": {
   "display_name": "Python3.8",
   "language": "python",
   "name": "python3.8"
  },
  "language_info": {
   "codemirror_mode": {
    "name": "ipython",
    "version": 3
   },
   "file_extension": ".py",
   "mimetype": "text/x-python",
   "name": "python",
   "nbconvert_exporter": "python",
   "pygments_lexer": "ipython3",
   "version": "3.8.5"
  }
 },
 "nbformat": 4,
 "nbformat_minor": 5
}
