{
 "cells": [
  {
   "cell_type": "code",
   "execution_count": 2,
   "id": "4927a3c1-5db7-4a3c-8292-db94d45db560",
   "metadata": {},
   "outputs": [],
   "source": [
    "#partimos del siguiente peptido\n",
    "peptido = \"WLPTHYSIPHPDFGALSQYVYDKYPPDMHVTQYWKVHNIDKERPWPLDHCSFYAWAITMWSKQKEKDSCHHFQSAWTNAFVYELWRPWWPFWAYYRLFLT\""
   ]
  },
  {
   "cell_type": "code",
   "execution_count": 3,
   "id": "97a04952-ff60-4eef-a0a9-de20754df888",
   "metadata": {},
   "outputs": [
    {
     "name": "stdout",
     "output_type": "stream",
     "text": [
      "{'W': 10, 'L': 6, 'P': 9, 'T': 5, 'H': 7, 'Y': 9, 'S': 6, 'I': 3, 'D': 6, 'F': 6, 'G': 1, 'A': 6, 'Q': 4, 'V': 4, 'K': 6, 'M': 2, 'N': 2, 'E': 3, 'R': 3, 'C': 2}\n"
     ]
    }
   ],
   "source": [
    "#hay que hacer un diccionario con las veces que está cada peptido\n",
    "#primero creamos el diccionario\n",
    "diccionario_peptido = {}\n",
    "#ahora vamos a recorrer cada letra\n",
    "#la idea es que cada letra se convierta en una clave\n",
    "#y si ya existe esa clave, que sume 1 al valor que tenga la clave\n",
    "index = 0 #necesitamos una variable para saber por donde vamos en la lista\n",
    "while index < len(peptido):\n",
    "    pep = peptido[index]\n",
    "    if pep in diccionario_peptido:\n",
    "        diccionario_peptido[pep] += 1\n",
    "    else:\n",
    "        diccionario_peptido[pep] = 1\n",
    "    index += 1\n",
    "print(diccionario_peptido)"
   ]
  },
  {
   "cell_type": "code",
   "execution_count": 4,
   "id": "55c3dafc-354d-4fed-bad6-8c5d56260549",
   "metadata": {},
   "outputs": [
    {
     "name": "stdout",
     "output_type": "stream",
     "text": [
      "{'W': 10, 'P': 9, 'Y': 9}\n"
     ]
    }
   ],
   "source": [
    "#ahora tenemos que hacer un diccionario con los tres peptidos que mas se repiten\n",
    "#lo primero creamos el nuevo diccionario pero ordenado según los valores\n",
    "diccionario_ordenado = {}\n",
    "#ahora vamos a hacer dos listas, una con los valores ordenados de mayor a menor\n",
    "lista_peptido_sorted_values = sorted(diccionario_peptido.values(), reverse = True)\n",
    "#y otra lista con las claves ordenadas de mayor a menor según el valor\n",
    "lista_peptido_sorted_keys = sorted(diccionario_peptido, key=diccionario_peptido.get, reverse = True)\n",
    "#ahora vamos a hacer un bucle para meter en el diccionario claves con sus valores\n",
    "#esto no sirve pero lo dejo comentado porque puede ser útil para otra vez\n",
    "'''\n",
    "index = 0 #variable para saber por donde vamos de las listas\n",
    "while index < len(lista_peptido_sorted_values):\n",
    "    diccionario_ordenado[lista_peptido_sorted_keys[index]] = lista_peptido_sorted_values[index]\n",
    "    index += 1\n",
    "print(diccionario_ordenado)\n",
    "'''\n",
    "#vamos a hacer lo mismo de arriba pero solo con los tres primeros valores\n",
    "#creamos el nuevo diccionario\n",
    "diccionario_top3 = {}\n",
    "index = 0 #variable para saber por donde vamos de las listas\n",
    "while index < 3:\n",
    "    diccionario_top3[lista_peptido_sorted_keys[index]] = lista_peptido_sorted_values[index]\n",
    "    index += 1\n",
    "print(diccionario_top3)"
   ]
  }
 ],
 "metadata": {
  "kernelspec": {
   "display_name": "Python 3 (ipykernel)",
   "language": "python",
   "name": "python3"
  },
  "language_info": {
   "codemirror_mode": {
    "name": "ipython",
    "version": 3
   },
   "file_extension": ".py",
   "mimetype": "text/x-python",
   "name": "python",
   "nbconvert_exporter": "python",
   "pygments_lexer": "ipython3",
   "version": "3.8.8"
  }
 },
 "nbformat": 4,
 "nbformat_minor": 5
}
