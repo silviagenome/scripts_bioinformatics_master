{
 "cells": [
  {
   "cell_type": "code",
   "execution_count": 2,
   "id": "41b3c479-4993-4d3b-b16c-3592aa13eaca",
   "metadata": {
    "tags": []
   },
   "outputs": [],
   "source": [
    "#tenemos estos datos\n",
    "#aquí está la variante, frecuencia alélica y genes\n",
    "variantes = {\"chr1:1000C>A\":{\"freq\": 0.02, \"gene\": \"RUNX1\"}, \n",
    "             \"chr3:854T>C\":{\"freq\": 0.8, \"gene\": \"IL6\"}, \n",
    "             \"chrX:8567G>A\":{\"freq\": 0.03, \"gene\": \"SERPINC1\"}, \n",
    "             \"chr5:1000C>A\":{\"freq\": 0.01, \"gene\": \"FOXP3\"}}\n",
    "#aquí genes y fenotipos clínicos asociados\n",
    "genes = {\"RUNX1\":[\"sordera\", \"problema_plaquetario\"], \n",
    "         \"IL6\":[\"inflamacion\", \"autoinmune\", \"sordera\"], \n",
    "         \"SERPINC1\":[\"trombosis\", \"sordera\"], \n",
    "         \"FOXP3\": [\"cancer\", \"inflamacion\"]}\n",
    "#aquí pacientes y fenotipos clínicos asociados\n",
    "pacientes = {\"P1\":[\"sordera\"], \n",
    "             \"P2\":[\"sordera\", \"problema_plaquetario\"], \n",
    "             \"P3\":[\"inflamacion\"], \n",
    "             \"P4\":[\"cancer\", \"autoinmune\"]}\n",
    "\n"
   ]
  },
  {
   "cell_type": "code",
   "execution_count": 3,
   "id": "5127add7-41e4-4897-8e13-0f706e0fabd5",
   "metadata": {},
   "outputs": [
    {
     "name": "stdout",
     "output_type": "stream",
     "text": [
      "{'P1': ['chr1:1000C>A', 'chrX:8567G>A'], 'P2': ['chr1:1000C>A', 'chrX:8567G>A'], 'P3': ['chr5:1000C>A'], 'P4': ['chr5:1000C>A']}\n"
     ]
    }
   ],
   "source": [
    "#queremos un diccionario que tenga por claves los pacientes\n",
    "#y por valores listas con las variantes que les podrían estar causando enfermedad\n",
    "#tenemos que descartar las frecuencias > 0.05\n",
    "diccionario_resultado = {}\n",
    "for paciente in pacientes:\n",
    "    lista_variantes = []\n",
    "    for gen in genes:\n",
    "        for enfermedades1 in pacientes[paciente]:\n",
    "            for enfermedades2 in genes[gen]:\n",
    "                if enfermedades1 == enfermedades2:\n",
    "                    for variante in variantes:\n",
    "                        if gen == variantes[variante][\"gene\"]:\n",
    "                            if variantes[variante][\"freq\"] > 0.05:\n",
    "                                continue\n",
    "                            else:\n",
    "                                if variante not in lista_variantes:\n",
    "                                    lista_variantes.append(variante)\n",
    "    diccionario_resultado[paciente] = lista_variantes\n",
    "                                \n",
    "print(diccionario_resultado)"
   ]
  }
 ],
 "metadata": {
  "kernelspec": {
   "display_name": "Python 3 (ipykernel)",
   "language": "python",
   "name": "python3"
  },
  "language_info": {
   "codemirror_mode": {
    "name": "ipython",
    "version": 3
   },
   "file_extension": ".py",
   "mimetype": "text/x-python",
   "name": "python",
   "nbconvert_exporter": "python",
   "pygments_lexer": "ipython3",
   "version": "3.8.8"
  }
 },
 "nbformat": 4,
 "nbformat_minor": 5
}
