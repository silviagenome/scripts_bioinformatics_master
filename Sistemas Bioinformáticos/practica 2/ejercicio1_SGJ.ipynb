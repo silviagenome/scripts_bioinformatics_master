{
 "cells": [
  {
   "cell_type": "code",
   "execution_count": 1,
   "id": "06a5b24a-5ca9-4428-b95e-9fc972835b3c",
   "metadata": {},
   "outputs": [],
   "source": [
    "#con esto me he conectado\n",
    "import mysql.connector\n",
    "\n",
    "mydb = mysql.connector.connect(\n",
    "  host=\"dayhoff.inf.um.es\",\n",
    "  user=\"alubio07\",\n",
    "  password=\"alubio07PW-\",\n",
    "  database=\"alubio07\"\n",
    ")\n",
    "\n",
    "mycursor = mydb.cursor()"
   ]
  },
  {
   "cell_type": "code",
   "execution_count": null,
   "id": "57e6e085-7e98-4115-a5e6-6cbde0dfd0b6",
   "metadata": {},
   "outputs": [],
   "source": [
    "#con esta ejecución creamos la tabla, con el código en sql que se nos ha proporcionado\n",
    "mycursor.execute(\"CREATE TABLE genep2 (\\\n",
    "  gene_ensembl varchar(255) NOT NULL,\\\n",
    "  gene_symbol varchar(255) NOT NULL,\\\n",
    "  PRIMARY KEY (gene_ensembl)\\\n",
    ")\")"
   ]
  },
  {
   "cell_type": "code",
   "execution_count": null,
   "id": "9042ed79-0434-4cf1-a1a8-374326a122d8",
   "metadata": {},
   "outputs": [],
   "source": [
    "#lo mismo que en el paso anterior pero con la tabla de proteinp2\n",
    "mycursor.execute(\"CREATE TABLE proteinp2 (\\\n",
    "  protein_ensembl varchar(255) NOT NULL,\\\n",
    "  gene_ensembl varchar(255) NOT NULL,\\\n",
    "  sequence longtext,\\\n",
    "  PRIMARY KEY (protein_ensembl),\\\n",
    "  CONSTRAINT fk_protein_1 FOREIGN KEY (gene_ensembl) REFERENCES genep2 (gene_ensembl)\\\n",
    ")\")"
   ]
  },
  {
   "cell_type": "code",
   "execution_count": 5,
   "id": "3b5f36a1-44b0-4a39-b8ee-3987679c8119",
   "metadata": {},
   "outputs": [
    {
     "name": "stdout",
     "output_type": "stream",
     "text": [
      "('departamento',)\n",
      "('departamento_empleado',)\n",
      "('empleado',)\n",
      "('gasto',)\n",
      "('genep2',)\n",
      "('manager',)\n",
      "('presupuesto',)\n",
      "('proteinp2',)\n",
      "('salario',)\n",
      "('sequenceb3',)\n",
      "('variantb3',)\n"
     ]
    }
   ],
   "source": [
    "#con esto comprobamos que aparecen las tablas que acabamos de crear en nuestra base de datos\n",
    "mycursor.execute(\"SHOW TABLES\")\n",
    "for x in mycursor:\n",
    "  print(x)"
   ]
  },
  {
   "cell_type": "code",
   "execution_count": null,
   "id": "baa0e03c-cc03-44df-af58-9f8113d095b5",
   "metadata": {},
   "outputs": [],
   "source": [
    "#en esta celda he metido el código para insertar el csv en la tabla genep2\n",
    "import csv\n",
    "\n",
    "with open(\"genes.csv\", mode='r') as csv_file:\n",
    "    csv_reader = csv.reader(csv_file, delimiter=\",\", )\n",
    "    next(csv_reader)\n",
    "    line_count = 0\n",
    "    values = []\n",
    "    for row in csv_reader:\n",
    "        fila = (row[0], row[1])\n",
    "        values.append(fila) #Imprimimos la columna símbolo\n",
    "\n",
    "#Creamos la plantilla de inserción\n",
    "\n",
    "sql_insert = \"INSERT INTO genep2 (gene_ensembl, gene_symbol) VALUES (%s, %s)\"\n",
    "\n",
    "mycursor.executemany(sql_insert, values)\n",
    "mydb.commit()\n",
    "print(mycursor.rowcount, \"filas insertadas\")"
   ]
  },
  {
   "cell_type": "code",
   "execution_count": 2,
   "id": "9d4eaa20-d94d-49a1-a78f-4cd2a093c3ef",
   "metadata": {},
   "outputs": [],
   "source": [
    "#aquí he definido una función para obtener del servidos los códigos de ensembl \n",
    "#de las proteínas a partir de los códigos ensembl de sus correspondientes genes\n",
    "def get_protein(gene_ensembl):\n",
    "\n",
    "    import requests, sys\n",
    "    server = \"https://rest.ensembl.org\" #Dirección del ENDPOINT principal\n",
    "\n",
    "    #Parámetros de la función usando el gene_ensembl y el expand=1\n",
    "\n",
    "    ext = \"/lookup/id/\" + gene_ensembl + \"?expand=1\"\n",
    "\n",
    "    #Petición GET indicando que quiero que me devuelva en formato JSON\n",
    "\n",
    "    r = requests.get(server+ext, headers={ \"Content-Type\" : \"application/json\"})\n",
    "\n",
    " \n",
    "\n",
    "    #Si la petición es fallida doy error\n",
    "\n",
    "    if not r.ok:\n",
    "\n",
    "      raise Exception(\"Ha fallado\")\n",
    "    \n",
    "    decoded = r.json()\n",
    "    #del decoded he mirado donde se encontraba la clase Translation\n",
    "    #como he visto que estaban dentro de Transcript, he filtrado esa parte\n",
    "    datos_filtrados=decoded[\"Transcript\"]\n",
    "    result = []\n",
    "    for i in range(len(datos_filtrados)):\n",
    "        #aquí, con el if cojo los que son de la clase \"Translation\"\n",
    "        if \"Translation\" in datos_filtrados[i]:\n",
    "            #en cada item de la lista se añadirá una tupla con el gen_ensembl (decoded[id])\n",
    "            #y el protein _ensembl (datos_filtrados[i][\"Translation\"][\"id\"]))\n",
    "            #por lo tanto en distintas tuplas aparecerán repetidos genes,\n",
    "            #ya que un gen tiene varias proteínas\n",
    "            result.append((decoded[\"id\"], datos_filtrados[i][\"Translation\"][\"id\"]))\n",
    "    return (result)"
   ]
  },
  {
   "cell_type": "code",
   "execution_count": 3,
   "id": "dc764c75-0c9c-4ea3-ba94-81e55b87ff7b",
   "metadata": {},
   "outputs": [],
   "source": [
    "#aquí he definido una función para obtener del servidos las secuencias \n",
    "#de las proteínas a partir de los códigos ensembl de sus correspondientes proteínas\n",
    "def get_sequence(protein_ensembl):\n",
    "\n",
    "    import requests, sys\n",
    "    server = \"https://rest.ensembl.org\" #Dirección del ENDPOINT principal\n",
    "\n",
    "    #Parámetros de la función usando el gen IL6 con CDNA y multiples secuencias\n",
    "\n",
    "    ext = \"/sequence/id/\" + protein_ensembl + \"?\"\n",
    "\n",
    "    #Petición GET indicando que quiero que me devuelva en formato JSON\n",
    "\n",
    "    r = requests.get(server+ext, headers={ \"Content-Type\" : \"application/json\"})\n",
    "\n",
    " \n",
    "\n",
    "    #Si la petición es fallida doy error\n",
    "\n",
    "    if not r.ok:\n",
    "\n",
    "      raise Exception(\"Ha fallado\")\n",
    "    \n",
    "    decoded = r.json()\n",
    "    #el resultado será una tupla con la secuencia y el código de la proteína\n",
    "    result = (decoded[\"seq\"], decoded[\"id\"])\n",
    "    return (result)"
   ]
  },
  {
   "cell_type": "code",
   "execution_count": null,
   "id": "2ab688ef-77e2-48ab-9d8d-6adff0041ead",
   "metadata": {
    "tags": []
   },
   "outputs": [],
   "source": [
    "#aquí vamos a ejecutar la inserción en la tabla de proteinas\n",
    "#vamos a tener un error porque ya están insertadas las proteínas\n",
    "\n",
    "mycursor = mydb.cursor()\n",
    "\n",
    "mycursor.execute(\"SELECT * FROM genep2\")\n",
    "\n",
    "\n",
    "myresult = mycursor.fetchall() #Le indicamos que nos cargue todos los valores recuperados\n",
    "\n",
    "#Creamos la plantilla de inserción\n",
    "\n",
    "sql_insert = \"INSERT INTO proteinp2 (gene_ensembl, protein_ensembl) VALUES (%s, %s)\"\n",
    "\n",
    "for x in myresult:\n",
    "    protein = get_protein(x[0])\n",
    "    mycursor.executemany(sql_insert, protein)\n",
    "    mydb.commit()"
   ]
  },
  {
   "cell_type": "code",
   "execution_count": 5,
   "id": "d3bc04a4-dcbc-4dfc-9184-be3258694be4",
   "metadata": {},
   "outputs": [],
   "source": [
    "#aquí como he puesto un update en lugar de un insert no dará un error, ya que se puede\n",
    "#hacer update todas las veces que se quiera\n",
    "mycursor = mydb.cursor()\n",
    "\n",
    "mycursor.execute(\"SELECT * FROM proteinp2\")\n",
    "\n",
    "\n",
    "myresult = mycursor.fetchall() #Le indicamos que nos cargue todos los valores recuperados\n",
    "\n",
    "#Creamos la plantilla de inserción\n",
    "\n",
    "sql_update = \"UPDATE proteinp2 SET sequence = %s WHERE protein_ensembl = %s\"\n",
    "\n",
    "#a pesar de ser código parecido, no he hecho una función de este paso y el anterior\n",
    "#ya que en el paso de ejecutar se ejecutan cosas distintas\n",
    "lista = []\n",
    "for x in myresult:\n",
    "    sequence = get_sequence(x[0])\n",
    "    lista.append(sequence)\n",
    "    mycursor.executemany(sql_update, lista)\n",
    "    mydb.commit()"
   ]
  }
 ],
 "metadata": {
  "kernelspec": {
   "display_name": "Python3.8",
   "language": "python",
   "name": "python3.8"
  },
  "language_info": {
   "codemirror_mode": {
    "name": "ipython",
    "version": 3
   },
   "file_extension": ".py",
   "mimetype": "text/x-python",
   "name": "python",
   "nbconvert_exporter": "python",
   "pygments_lexer": "ipython3",
   "version": "3.8.5"
  }
 },
 "nbformat": 4,
 "nbformat_minor": 5
}
