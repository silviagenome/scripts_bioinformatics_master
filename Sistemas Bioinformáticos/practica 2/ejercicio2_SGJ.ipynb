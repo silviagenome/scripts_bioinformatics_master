{
 "cells": [
  {
   "cell_type": "code",
   "execution_count": 1,
   "id": "e83c00bc-1620-40dc-a19e-0eba6e32b718",
   "metadata": {},
   "outputs": [
    {
     "name": "stdout",
     "output_type": "stream",
     "text": [
      "\n",
      "\n",
      "1. Listar los genes cargados\n",
      "2. Ver las proteínas de un determinado gen\n",
      "3. Ver la secuencia de una determinada proteína\n",
      "4. Salir del programa\n"
     ]
    },
    {
     "name": "stdin",
     "output_type": "stream",
     "text": [
      "\n",
      "Indique la opción que desea ejecutar (1, 2, 3 o 4):  1\n"
     ]
    },
    {
     "name": "stdout",
     "output_type": "stream",
     "text": [
      "\u001b[1m\tgene ensembl\tgene symbol\n",
      "\u001b[0m 1 .  ENSG00000005961 \t ITGA2B\n",
      "\u001b[0m 2 .  ENSG00000088053 \t GP6\n",
      "\u001b[0m 3 .  ENSG00000107890 \t ANKRD26\n",
      "\u001b[0m 4 .  ENSG00000159216 \t RUNX1\n",
      "\u001b[0m 5 .  ENSG00000259207 \t ITGB3\n",
      "\n",
      "\n",
      "1. Listar los genes cargados\n",
      "2. Ver las proteínas de un determinado gen\n",
      "3. Ver la secuencia de una determinada proteína\n",
      "4. Salir del programa\n"
     ]
    },
    {
     "name": "stdin",
     "output_type": "stream",
     "text": [
      "\n",
      "Indique la opción que desea ejecutar (1, 2, 3 o 4):  2\n",
      "¿De qué gen quieres ver las proteínas? ENSG00000005961\n"
     ]
    },
    {
     "name": "stdout",
     "output_type": "stream",
     "text": [
      "1 .  ENSP00000262407\n",
      "2 .  ENSP00000467269\n",
      "3 .  ENSP00000498119\n",
      "\n",
      "\n",
      "1. Listar los genes cargados\n",
      "2. Ver las proteínas de un determinado gen\n",
      "3. Ver la secuencia de una determinada proteína\n",
      "4. Salir del programa\n"
     ]
    },
    {
     "name": "stdin",
     "output_type": "stream",
     "text": [
      "\n",
      "Indique la opción que desea ejecutar (1, 2, 3 o 4):  ENSP00000262407\n"
     ]
    },
    {
     "name": "stdout",
     "output_type": "stream",
     "text": [
      "La opción indicada no está disponible. Pruebe con la siguientes:\n",
      "\n",
      "\n",
      "\n",
      "1. Listar los genes cargados\n",
      "2. Ver las proteínas de un determinado gen\n",
      "3. Ver la secuencia de una determinada proteína\n",
      "4. Salir del programa\n"
     ]
    },
    {
     "name": "stdin",
     "output_type": "stream",
     "text": [
      "\n",
      "Indique la opción que desea ejecutar (1, 2, 3 o 4):  4\n"
     ]
    },
    {
     "name": "stdout",
     "output_type": "stream",
     "text": [
      "El programa ha finalizado correctamente.\n"
     ]
    }
   ],
   "source": [
    "#he definido una función para conectarme al servidor y llamarlo desde el main\n",
    "def connect_to_server():\n",
    "    import mysql.connector\n",
    "    global mydb #he hecho esto global para que no se corté la conexión a lo largo del programa\n",
    "    global mycursor\n",
    "    mydb = mysql.connector.connect(\n",
    "      host=\"dayhoff.inf.um.es\",\n",
    "      user=\"alubio07\",\n",
    "      password=\"alubio07PW-\",\n",
    "      database=\"alubio07\"\n",
    "    )\n",
    "    mycursor = mydb.cursor()\n",
    "    return mycursor\n",
    "\n",
    "#aqui he creado una función de consulta general para no repetir código \n",
    "#mientras se pueda evitar cuando hacemos consultas que son muy parecidas\n",
    "def consulta_general(query, table):\n",
    "    mycursor.execute(\"SELECT \" + query + \" FROM \" + table)\n",
    "    myresult = mycursor.fetchall()\n",
    "    result_list = []\n",
    "    for x in myresult:\n",
    "        result_list.append(x[0])\n",
    "    return result_list\n",
    "\n",
    "#esta funcion la he hecho para que según el usuario meta como input el gene_type\n",
    "#o el gene_symbol funcione de ambas maneras y así no repetir código\n",
    "def input_genes(gen, gene_type):\n",
    "    sql = \"SELECT P.protein_ensembl\\\n",
    "                        FROM proteinp2 P, (SELECT gene_ensembl\\\n",
    "                                           FROM genep2\\\n",
    "                                           WHERE \" + gene_type + \" = %s) G\\\n",
    "                        WHERE G.gene_ensembl=P.gene_ensembl;\"\n",
    "    gen_buscar = (gen, )\n",
    "    mycursor.execute(sql, gen_buscar)\n",
    "    opcion2 = mycursor.fetchall()\n",
    "    lista_opcion2 = []\n",
    "    for resultado in opcion2:\n",
    "        lista_opcion2.append(resultado[0])\n",
    "    index = 1\n",
    "    for item in lista_opcion2:\n",
    "        print(index, \". \", item)\n",
    "        index += 1\n",
    "\n",
    "#aquí he definido la opción 1, que simplemente lista lo que tenemos en la tabla genep2\n",
    "def opcion1():\n",
    "    mycursor.execute(\"SELECT * FROM genep2\")\n",
    "    myresult = mycursor.fetchall()\n",
    "    print( \"\\033[1m\" + \"\\t\" + \"gene ensembl\" + \"\\t\" + \"gene symbol\")\n",
    "    index = 1\n",
    "    for x in myresult:\n",
    "        print(\"\\033[0m\", index, \". \", x[0], \"\\t\", x[1])\n",
    "        index += 1\n",
    "\n",
    "#en la opcion 2 se puede poner tanto el gene_ensembl como el gene_symbol, y se \n",
    "#llamará la a anterior función\n",
    "def opcion2(gen):\n",
    "    gene_ens = consulta_general(\"gene_ensembl\", \"genep2\")\n",
    "    gene_sym = consulta_general(\"gene_symbol\", \"genep2\")\n",
    "    if gen in gene_ens:\n",
    "        input_genes(gen, \"gene_ensembl\")\n",
    "    elif gen in gene_sym:\n",
    "        input_genes(gen, \"gene_symbol\")\n",
    "    else: #y esto en el caso de que se haya introducido algo incorrecto\n",
    "        print(\"\\nEl gen no está en la lista, escriba uno de la lista.\",\n",
    "              \"\\nPara consultar los genes que aparecen en la lista seleccione la opción 1.\",\n",
    "             \"\\nPuede introducir tanto los identificadores de genes de Ensembl como su símbolo.\")\n",
    "        return\n",
    "\n",
    "#en esta opción se hace algo parecido a lo anterior, pero para sacar la secuencia\n",
    "#de la proteína escogida por el usuario\n",
    "def opcion3(proteina):\n",
    "    proteinas = consulta_general(\"protein_ensembl\", \"proteinp2\")\n",
    "    if proteina in proteinas:\n",
    "        sql = \"SELECT sequence\\\n",
    "               FROM proteinp2\\\n",
    "               WHERE protein_ensembl = %s\"\n",
    "        proteina_buscar = (proteina, )\n",
    "        mycursor.execute(sql, proteina_buscar)\n",
    "        opcion3 = mycursor.fetchall()\n",
    "        lista_opcion3 = []\n",
    "        for resultado in opcion3:\n",
    "            lista_opcion3.append(resultado[0])\n",
    "        index = 1\n",
    "        for item in lista_opcion3:\n",
    "            print(\"\\n\", item)\n",
    "            index += 1\n",
    "    else: #y esto en el caso de que se haya introducido algo incorrecto\n",
    "        print(\"\\nLa proteína no está en la lista, escriba la identificación de Ensembl de una de la lista.\",\n",
    "              \"\\nPara consultar las proteínas de cada gen seleccione la opción 2.\",\n",
    "              \"\\nPara consultar los genes que aparecen en la lista seleccione la opción 1.\",\n",
    "             \"\\nEn la opción 2 puede introducir tanto los identificadores de genes de Ensembl como su símbolo.\")\n",
    "        return\n",
    "    \n",
    "def main():\n",
    "    while True:\n",
    "        #aquí llamo a la función de conectar al servidor\n",
    "        #como lo he hecho global no hace falta pasarlo dentro de cada función\n",
    "        mycursor = connect_to_server()\n",
    "        print(\"\\n\\n1. Listar los genes cargados\")\n",
    "        print(\"2. Ver las proteínas de un determinado gen\")\n",
    "        print(\"3. Ver la secuencia de una determinada proteína\")\n",
    "        print(\"4. Salir del programa\")\n",
    "        opcion = input(\"\\nIndique la opción que desea ejecutar (1, 2, 3 o 4): \")\n",
    "        if opcion == \"1\":\n",
    "            opcion1()\n",
    "        elif opcion == \"2\":\n",
    "            gen = input(\"¿De qué gen quieres ver las proteínas?\") #aqui la secuencia imput que le pasaremos a la opcion 2\n",
    "            opcion2(gen)\n",
    "        elif opcion == \"3\":\n",
    "            proteina = input(\"¿De qué proteina quieres saber su secuencia?\")\n",
    "            opcion3(proteina)\n",
    "        elif opcion == \"4\":\n",
    "            break\n",
    "        else:\n",
    "            #IMPORTANTE. Avisar al usuario cuando la entrada no es correcta\n",
    "            print(\"La opción indicada no está disponible. Pruebe con la siguientes:\\n\")\n",
    "    print(\"El programa ha finalizado correctamente.\")\n",
    "\n",
    "if __name__ == \"__main__\":\n",
    "    main()"
   ]
  }
 ],
 "metadata": {
  "kernelspec": {
   "display_name": "Python3.8",
   "language": "python",
   "name": "python3.8"
  },
  "language_info": {
   "codemirror_mode": {
    "name": "ipython",
    "version": 3
   },
   "file_extension": ".py",
   "mimetype": "text/x-python",
   "name": "python",
   "nbconvert_exporter": "python",
   "pygments_lexer": "ipython3",
   "version": "3.8.5"
  }
 },
 "nbformat": 4,
 "nbformat_minor": 5
}
