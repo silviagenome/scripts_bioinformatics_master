{
 "cells": [
  {
   "cell_type": "code",
   "execution_count": 100,
   "id": "e56470f7-b617-4e3a-a02b-bcd5bb6034d0",
   "metadata": {},
   "outputs": [],
   "source": [
    "import pandas as pd\n",
    "import seaborn as sns\n",
    "import matplotlib.pyplot as plt\n",
    "\n",
    "#Cargamos el archivo\n",
    "data_examen = pd.read_csv(\"peso_molecular_solubilidad.csv\", sep=\",\")"
   ]
  },
  {
   "cell_type": "code",
   "execution_count": 101,
   "id": "64fe066b-e7b3-42f7-b78e-3c98e92193cd",
   "metadata": {},
   "outputs": [],
   "source": [
    "#he hecho un gráfico de barras con la librería seaborn\n",
    "def grafico_barras(dataframe):\n",
    "    return sns.countplot(x=dataframe[\"solubility\"])"
   ]
  },
  {
   "cell_type": "code",
   "execution_count": 102,
   "id": "d458f244-7e3b-4715-b497-ba27aed385e9",
   "metadata": {},
   "outputs": [
    {
     "data": {
      "text/plain": [
       "<AxesSubplot:xlabel='solubility', ylabel='count'>"
      ]
     },
     "execution_count": 102,
     "metadata": {},
     "output_type": "execute_result"
    },
    {
     "data": {
      "image/png": "[encoded data removed]",
      "text/plain": [
       "<Figure size 432x288 with 1 Axes>"
      ]
     },
     "metadata": {
      "needs_background": "light"
     },
     "output_type": "display_data"
    }
   ],
   "source": [
    "grafico_barras(data_examen)"
   ]
  },
  {
   "cell_type": "code",
   "execution_count": 103,
   "id": "ea524508-dfc0-420d-b16e-fcbaa83dfd14",
   "metadata": {},
   "outputs": [],
   "source": [
    "#he hecho un gráfico pastel como hemos visto en clase con pandas y matplotlib\n",
    "def grafico_pastel_solubility(dataframe):\n",
    "    data_solubilidad = dataframe.groupby(['solubility'])['solubility'].count()\n",
    "    return data_solubilidad.plot(kind='pie', title='Nº aminoácidos por tipo de solubilidad')"
   ]
  },
  {
   "cell_type": "code",
   "execution_count": 104,
   "id": "e36aad68-41fe-4aca-9705-cb971a2e2cf4",
   "metadata": {},
   "outputs": [
    {
     "data": {
      "text/plain": [
       "<AxesSubplot:title={'center':'Nº aminoácidos por tipo de solubilidad'}, ylabel='solubility'>"
      ]
     },
     "execution_count": 104,
     "metadata": {},
     "output_type": "execute_result"
    },
    {
     "data": {
      "image/png": "[encoded data removed]",
      "text/plain": [
       "<Figure size 432x288 with 1 Axes>"
      ]
     },
     "metadata": {},
     "output_type": "display_data"
    }
   ],
   "source": [
    "grafico_pastel_solubility(data_examen)"
   ]
  },
  {
   "cell_type": "code",
   "execution_count": 105,
   "id": "5426af0e-9468-462c-a810-446e462daec3",
   "metadata": {},
   "outputs": [],
   "source": [
    "def aa_to_weigth(secuencia):\n",
    "    suma=0\n",
    "    for aminoacido in secuencia:\n",
    "        #para cada aminoácido selecciono su columna de weight\n",
    "        weigth = float(data_examen[data_examen[\"aa\"] == aminoacido][\"weight\"])\n",
    "        #y se la sumo a la cantidad anterior que se va acumulando\n",
    "        suma+=weigth\n",
    "    return suma"
   ]
  },
  {
   "cell_type": "code",
   "execution_count": 106,
   "id": "fc9e13e9-359d-42c1-b11e-b1a87db2fac6",
   "metadata": {},
   "outputs": [
    {
     "data": {
      "text/plain": [
       "1312.5829799999997"
      ]
     },
     "execution_count": 106,
     "metadata": {},
     "output_type": "execute_result"
    }
   ],
   "source": [
    "aa_to_weigth(\"MNGSPDIREGAQG\")"
   ]
  },
  {
   "cell_type": "code",
   "execution_count": 107,
   "id": "86ae9d31-263e-4f6b-bbec-ef5c06d98adb",
   "metadata": {},
   "outputs": [],
   "source": [
    "def grafico_barras_secuencia(secuencia):\n",
    "    #he creado un dataframe vacio al que le voy a ir añadiendo las filas indicadas\n",
    "    result = pd.DataFrame(columns=[\"aa\", \"solubility\"])\n",
    "    for aminoacido in secuencia:\n",
    "        #para cada aminoácido selecciono su fila con las columnas que quiero\n",
    "        result_aa = data_examen[data_examen[\"aa\"] == aminoacido].filter(items=[\"aa\", \"solubility\"])\n",
    "        #y se lo añado al dataframe resultado\n",
    "        result = result.append(result_aa)\n",
    "        #después cuando ya tengo ese dataframe es cuando hago el gráfico con seaborn\n",
    "    return sns.countplot(x=result[\"solubility\"])"
   ]
  },
  {
   "cell_type": "code",
   "execution_count": 108,
   "id": "15a4bc98-199d-4e90-8237-1d7cf8a1af31",
   "metadata": {},
   "outputs": [
    {
     "data": {
      "text/plain": [
       "<AxesSubplot:xlabel='solubility', ylabel='count'>"
      ]
     },
     "execution_count": 108,
     "metadata": {},
     "output_type": "execute_result"
    },
    {
     "data": {
      "image/png": "[encoded data removed]",
      "text/plain": [
       "<Figure size 432x288 with 1 Axes>"
      ]
     },
     "metadata": {
      "needs_background": "light"
     },
     "output_type": "display_data"
    }
   ],
   "source": [
    "grafico_barras_secuencia(\"MNGSPDIREGAQG\")"
   ]
  }
 ],
 "metadata": {
  "kernelspec": {
   "display_name": "Python3.8",
   "language": "python",
   "name": "python3.8"
  },
  "language_info": {
   "codemirror_mode": {
    "name": "ipython",
    "version": 3
   },
   "file_extension": ".py",
   "mimetype": "text/x-python",
   "name": "python",
   "nbconvert_exporter": "python",
   "pygments_lexer": "ipython3",
   "version": "3.8.5"
  }
 },
 "nbformat": 4,
 "nbformat_minor": 5
}
