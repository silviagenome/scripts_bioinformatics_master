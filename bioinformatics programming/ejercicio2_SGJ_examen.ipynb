{
 "cells": [
  {
   "cell_type": "code",
   "execution_count": 45,
   "id": "f4eb223f-ea56-4b02-a9d2-8cfeee621a0c",
   "metadata": {},
   "outputs": [],
   "source": [
    "def forma_iterativa(palabra):\n",
    "    lista=[] #he creado una lista a la que voy a ir añadiendo si cada letra es \n",
    "    #mayor (alfabeticamente) que la anterior o no\n",
    "    letras=\"A\" #aquí tengo una variable que voy a ir cambiando según la letra en la que me encuentre\n",
    "    #la primera es la A porque es la primera del abecedario\n",
    "    for letra in palabra:\n",
    "        if letra >= letras:\n",
    "            lista.append(\"True\") #si la letra es mayor o igual que la anterior añado a la lista True\n",
    "            letras=letra\n",
    "        else:\n",
    "            lista.append(\"False\") #en caso contrario, añado false\n",
    "    if \"False\" in lista:\n",
    "        return False #si en la lista tengo algún False devuelvo False\n",
    "    else:\n",
    "        return True #en caso contrario devuelvo True"
   ]
  },
  {
   "cell_type": "code",
   "execution_count": 46,
   "id": "c4e776b9-ae8a-45d1-9790-3548d886fbb2",
   "metadata": {},
   "outputs": [
    {
     "data": {
      "text/plain": [
       "True"
      ]
     },
     "execution_count": 46,
     "metadata": {},
     "output_type": "execute_result"
    }
   ],
   "source": [
    "forma_iterativa(\"ABCDE\")"
   ]
  },
  {
   "cell_type": "code",
   "execution_count": 47,
   "id": "eb9dd8ca-4182-4d7d-8815-9094b0df1e20",
   "metadata": {},
   "outputs": [
    {
     "data": {
      "text/plain": [
       "False"
      ]
     },
     "execution_count": 47,
     "metadata": {},
     "output_type": "execute_result"
    }
   ],
   "source": [
    "forma_iterativa(\"ABCED\")"
   ]
  },
  {
   "cell_type": "code",
   "execution_count": 48,
   "id": "b1a42199-6ef2-45a9-b527-00b0f04565c3",
   "metadata": {},
   "outputs": [],
   "source": [
    "def forma_recursiva(palabra): \n",
    "    if len(palabra[0]) != len(palabra): #si la primera letra no mide lo mismo que la primera palabra sigo\n",
    "        if palabra[0] <= palabra[1]: #si la primera letra de la palabra es menor o igual que la segunda\n",
    "            return forma_recursiva(palabra[1:]) #voy a llamar en recursividad a la función, pero empezando desde la siguiente letra la palabra\n",
    "        else: #en cuantro encuentre una letra que sea mayor que la siguiente va a lanzar un False\n",
    "            return False\n",
    "    else: #si la primera letra mide lo mismo que la palabra entera rompo la recursividad y devuelvo el True\n",
    "        #para que no salga out of index\n",
    "        return True"
   ]
  },
  {
   "cell_type": "code",
   "execution_count": 49,
   "id": "b688664d-4bf3-4111-95df-0e9a067c21f5",
   "metadata": {},
   "outputs": [
    {
     "data": {
      "text/plain": [
       "True"
      ]
     },
     "execution_count": 49,
     "metadata": {},
     "output_type": "execute_result"
    }
   ],
   "source": [
    "forma_recursiva(\"ABCDE\")"
   ]
  },
  {
   "cell_type": "code",
   "execution_count": 50,
   "id": "3e711f27-0a79-4a82-a9d3-bc2d1f8f61f0",
   "metadata": {},
   "outputs": [
    {
     "data": {
      "text/plain": [
       "False"
      ]
     },
     "execution_count": 50,
     "metadata": {},
     "output_type": "execute_result"
    }
   ],
   "source": [
    "forma_recursiva(\"ABCED\")"
   ]
  }
 ],
 "metadata": {
  "kernelspec": {
   "display_name": "Python3.8",
   "language": "python",
   "name": "python3.8"
  },
  "language_info": {
   "codemirror_mode": {
    "name": "ipython",
    "version": 3
   },
   "file_extension": ".py",
   "mimetype": "text/x-python",
   "name": "python",
   "nbconvert_exporter": "python",
   "pygments_lexer": "ipython3",
   "version": "3.8.5"
  }
 },
 "nbformat": 4,
 "nbformat_minor": 5
}
